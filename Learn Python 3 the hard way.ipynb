{
 "cells": [
  {
   "cell_type": "markdown",
   "metadata": {},
   "source": [
    "# Exercise 54\n",
    "Advice from an Old Programmer"
   ]
  },
  {
   "cell_type": "markdown",
   "metadata": {},
   "source": [
    "# Exercise 53\n",
    "Next Steps"
   ]
  },
  {
   "cell_type": "markdown",
   "metadata": {},
   "source": [
    "# Exercise 52\n",
    "Web Game"
   ]
  },
  {
   "cell_type": "markdown",
   "metadata": {},
   "source": [
    "# ============================================================="
   ]
  },
  {
   "cell_type": "markdown",
   "metadata": {},
   "source": [
    "# Exercise 51\n",
    "Input from a Browser"
   ]
  },
  {
   "cell_type": "markdown",
   "metadata": {},
   "source": [
    "# Exercise 50\n",
    "Flask & first Website/Webapp"
   ]
  },
  {
   "cell_type": "markdown",
   "metadata": {},
   "source": [
    "# Exercise 49\n",
    "Making Sentences"
   ]
  },
  {
   "cell_type": "markdown",
   "metadata": {
    "collapsed": true
   },
   "source": [
    "# Exercise 48\n",
    "try - except "
   ]
  },
  {
   "cell_type": "code",
   "execution_count": 5,
   "metadata": {},
   "outputs": [
    {
     "name": "stdout",
     "output_type": "stream",
     "text": [
      "Wpisz liczbe: adf\n"
     ]
    },
    {
     "data": {
      "text/plain": [
       "'Wpisz prosze liczbe alfanumerycznie np. 42.'"
      ]
     },
     "execution_count": 5,
     "metadata": {},
     "output_type": "execute_result"
    }
   ],
   "source": [
    "def convert_number(s):\n",
    "    try:\n",
    "        return int(s)\n",
    "    except ValueError:\n",
    "        return 'Wpisz prosze liczbe alfanumerycznie np. 42.'\n",
    "\n",
    "convert_number(input(\"Wpisz liczbe: \"))"
   ]
  },
  {
   "cell_type": "markdown",
   "metadata": {},
   "source": [
    "# Exercise 47\n",
    "project ex47 and tests"
   ]
  },
  {
   "cell_type": "markdown",
   "metadata": {},
   "source": [
    "# Exercise 46\n",
    "projects skeleton"
   ]
  },
  {
   "cell_type": "markdown",
   "metadata": {},
   "source": [
    "# Exercise 45\n",
    "my game"
   ]
  },
  {
   "cell_type": "markdown",
   "metadata": {},
   "source": [
    "# Exercise 44"
   ]
  },
  {
   "cell_type": "markdown",
   "metadata": {},
   "source": [
    "\\3. Actions on the child alter the action on the parent."
   ]
  },
  {
   "cell_type": "code",
   "execution_count": 11,
   "metadata": {},
   "outputs": [
    {
     "name": "stdout",
     "output_type": "stream",
     "text": [
      "PARENT altered()\n",
      "CHILD, before PARENT altered()\n",
      "PARENT altered()\n",
      "CHILD, after PARENT altered()\n"
     ]
    }
   ],
   "source": [
    "class Parent(object):\n",
    "    def altered(self):\n",
    "        print(\"PARENT altered()\")\n",
    "        \n",
    "class Child(Parent):\n",
    "    def altered(self):\n",
    "        print(\"CHILD, before PARENT altered()\")\n",
    "        super().altered()\n",
    "        #super(Child, self).altered()\n",
    "        print(\"CHILD, after PARENT altered()\")\n",
    "        \n",
    "dad = Parent()\n",
    "son = Child()\n",
    "\n",
    "dad.altered()\n",
    "son.altered()"
   ]
  },
  {
   "cell_type": "markdown",
   "metadata": {},
   "source": [
    "\\2. Actions on the child override the action on the parent"
   ]
  },
  {
   "cell_type": "code",
   "execution_count": 3,
   "metadata": {},
   "outputs": [
    {
     "name": "stdout",
     "output_type": "stream",
     "text": [
      "PARENT override()\n",
      "CHILD override()\n"
     ]
    }
   ],
   "source": [
    "class Parent(object):\n",
    "    def override(self):\n",
    "        print(\"PARENT override()\")\n",
    "class Child(object):\n",
    "    def override(self):\n",
    "        print(\"CHILD override()\")\n",
    "        \n",
    "dad = Parent()\n",
    "son = Child()\n",
    "\n",
    "dad.override()\n",
    "son.override()"
   ]
  },
  {
   "cell_type": "markdown",
   "metadata": {},
   "source": [
    "\\1. Actions on the child imply an action on the parent"
   ]
  },
  {
   "cell_type": "code",
   "execution_count": 1,
   "metadata": {},
   "outputs": [
    {
     "name": "stdout",
     "output_type": "stream",
     "text": [
      "PARENT implicit()\n",
      "PARENT implicit()\n"
     ]
    }
   ],
   "source": [
    "class Parent(object):\n",
    "    def implicit(self):\n",
    "        print(\"PARENT implicit()\")\n",
    "\n",
    "class Child(Parent):\n",
    "    pass\n",
    "\n",
    "dad = Parent()\n",
    "son = Child()\n",
    "\n",
    "dad.implicit()\n",
    "son.implicit() # even though son is from class Child it has implicit function because son is subclass of Parent"
   ]
  },
  {
   "cell_type": "markdown",
   "metadata": {},
   "source": [
    "# Exercise 43\n",
    "1.Write or draw about the problem\n",
    "\n",
    "2.Extract key concepts from 1 and research them\n",
    "\n",
    "3.Create a class hierarchy and object map for the concepts\n",
    "\n",
    "4.Code the classes and a test to run them\n",
    "\n",
    "5.Repeat and refine\n",
    "\n",
    "Code of game"
   ]
  },
  {
   "cell_type": "markdown",
   "metadata": {},
   "source": [
    "# Exercise 42\n",
    "Is-A, Has-A fill up"
   ]
  },
  {
   "cell_type": "markdown",
   "metadata": {},
   "source": [
    "# Exercise 41"
   ]
  },
  {
   "cell_type": "code",
   "execution_count": null,
   "metadata": {},
   "outputs": [
    {
     "name": "stdout",
     "output_type": "stream",
     "text": [
      "class Distribution(Burst):\n",
      "> 9\n",
      "ANSWER: Make a class named Distribution that is-a Burst.\n",
      "\n",
      "\n",
      "chess.bun(art)\n",
      "> 8\n",
      "ANSWER: From chess get the bun function, call it with params se...\n",
      "\n",
      "\n",
      "chess = Coach()\n",
      "> 9\n",
      "ANSWER: Set chess to an instance of class Coach.\n",
      "\n",
      "\n",
      "attraction.cloth = 'drug'\n",
      "> \n",
      "ANSWER: From attraction get the cloth attribute and set it to 'drug'.\n",
      "\n",
      "\n",
      "class Copy(object):\n",
      "\tdef burn(self, crook, argument)\n",
      "> \n",
      "ANSWER: class Copy has-a function burn that takes self and crook, argument parameters.\n",
      "\n",
      "\n",
      "class Cough(object):\n",
      "\tdef __init__(self, bee)\n",
      "> class Cough has-a function __init__ that takes self and bee parameters.\n",
      "ANSWER: class Cough has-a __init__ that takes self and bee parameters.\n",
      "\n",
      "\n",
      "class Army(object):\n",
      "\tdef __init__(self, chess)\n",
      "> class Army has-a __init__ that takes self and chess parameters.\n",
      "ANSWER: class Army has-a __init__ that takes self and chess parameters.\n",
      "\n",
      "\n",
      "decision.berry(chalk)\n",
      "> From decision get berry function, call it with params chalk\n",
      "ANSWER: From decision get the berry function, call it with params se...\n",
      "\n",
      "\n",
      "brush = Chess()\n",
      "> \n",
      "ANSWER: Set brush to an instance of class Chess.\n",
      "\n",
      "\n",
      "blow.burst = 'baseball'\n",
      "> From blow get the burst attribute and set it to 'baseball'.\n",
      "ANSWER: From blow get the burst attribute and set it to 'baseball'.\n",
      "\n",
      "\n",
      "class Beetle(object):\n",
      "\tdef bit(self, decision)\n"
     ]
    }
   ],
   "source": [
    "import random\n",
    "from urllib.request import urlopen\n",
    "import sys\n",
    "\n",
    "WORD_URL = \"http://learncodethehardway.org/words.txt\"\n",
    "WORDS = []\n",
    "\n",
    "PHRASES = {\n",
    "    \"class %%%(%%%):\":\n",
    "        \"Make a class named %%% that is-a %%%.\",\n",
    "    \"class %%%(object):\\n\\tdef __init__(self, ***)\" :\n",
    "        \"class %%% has-a __init__ that takes self and *** parameters.\",\n",
    "    \"class %%%(object):\\n\\tdef ***(self, @@@)\":\n",
    "        \"class %%% has-a function *** that takes self and @@@ parameters.\",\n",
    "    \"*** = %%%()\":\n",
    "        \"Set *** to an instance of class %%%.\",\n",
    "    \"***.***(@@@)\":\n",
    "        \"From *** get the *** function, call it with params self, go.\",\n",
    "    \"***.*** = '***'\":\n",
    "        \"From *** get the *** attribute and set it to '***'.\"\n",
    "}\n",
    "\n",
    "# do they want to drill phrases first\n",
    "if len(sys.argv) == 2 and sys.argv[1] == \"english\":\n",
    "    PHRASE_FIRST = True\n",
    "else:\n",
    "    PHRASE_FIRST = False\n",
    "    \n",
    "# load up the words from the website\n",
    "for word in urlopen(WORD_URL).readlines():\n",
    "    WORDS.append(str(word.strip(), encoding=\"utf-8\"))\n",
    "    \n",
    "def convert(snippet, phrase):\n",
    "    class_names = [w.capitalize() for w in random.sample(WORDS, snippet.count(\"%%%\"))]\n",
    "    other_names = random.sample(WORDS, snippet.count(\"***\"))\n",
    "    results = []\n",
    "    param_names = []\n",
    "    \n",
    "    for i in range(0, snippet.count(\"@@@\")):\n",
    "        param_count = random.randint(1,3)\n",
    "        param_names.append(', '.join(random.sample(WORDS, param_count)))\n",
    "        \n",
    "    for sentence in snippet, phrase:\n",
    "        result = sentence[:]\n",
    "        \n",
    "        # fake class names\n",
    "        for word in class_names:\n",
    "            result = result.replace(\"%%%\", word,1)\n",
    "            \n",
    "        # fake other names\n",
    "        for word in other_names:\n",
    "            result = result.replace(\"***\", word, 1)\n",
    "        \n",
    "        # fake parameter lists\n",
    "        for word in param_names:\n",
    "            result = result.replace(\"@@@\", word, 1)\n",
    "            \n",
    "        results.append(result)\n",
    "        \n",
    "    return results\n",
    "\n",
    "# keep going until they hit CTRL-D\n",
    "try:\n",
    "    while True:\n",
    "        snippets = list(PHRASES.keys())\n",
    "        random.shuffle(snippets)\n",
    "        \n",
    "        for snippet in snippets:\n",
    "            phrase = PHRASES[snippet]\n",
    "            question, answer = convert(snippet, phrase)\n",
    "            if PHRASE_FIRST:\n",
    "                question, answer = answer, question\n",
    "                \n",
    "            print(question)\n",
    "            \n",
    "            input(\"> \")\n",
    "            print(\"ANSWER: {}\\n\\n\".format(answer))\n",
    "except EOFError:\n",
    "    print(\"\\nBye\")\n",
    "            "
   ]
  },
  {
   "cell_type": "markdown",
   "metadata": {},
   "source": [
    "# Exercise 40"
   ]
  },
  {
   "cell_type": "code",
   "execution_count": 12,
   "metadata": {},
   "outputs": [
    {
     "name": "stdout",
     "output_type": "stream",
     "text": [
      "Happy birthday to you\n",
      "I don't want to get sued\n",
      "So I'll stop right there.\n",
      "They rally around tha family\n",
      "With pockets full of shells\n"
     ]
    }
   ],
   "source": [
    "class Song(object):\n",
    "    def __init__(self, lyrics):\n",
    "        self.lyrics = lyrics\n",
    "        \n",
    "    def sing_me_a_song(self):\n",
    "        for line in self.lyrics:\n",
    "            print(line)\n",
    "\n",
    "happy_bday = Song([\"Happy birthday to you\",\n",
    "                  \"I don't want to get sued\",\n",
    "                  \"So I'll stop right there.\"])\n",
    "\n",
    "bulls_on_parade = Song([\"They rally around tha family\",\n",
    "                       \"With pockets full of shells\"])\n",
    "\n",
    "happy_bday.sing_me_a_song()\n",
    "\n",
    "bulls_on_parade.sing_me_a_song()"
   ]
  },
  {
   "cell_type": "code",
   "execution_count": 10,
   "metadata": {},
   "outputs": [
    {
     "name": "stdout",
     "output_type": "stream",
     "text": [
      "I am clasyy apples!\n",
      "And now a thousand years between\n"
     ]
    }
   ],
   "source": [
    "class MyStuff(object):\n",
    "    def __init__(self):\n",
    "        self.tangerine = \"And now a thousand years between\"\n",
    "        \n",
    "    def apple(self):\n",
    "        print(\"I am clasyy apples!\")\n",
    "\n",
    "thing = MyStuff()\n",
    "thing.apple()\n",
    "print(thing.tangerine)"
   ]
  },
  {
   "cell_type": "markdown",
   "metadata": {},
   "source": [
    "# ============================================================="
   ]
  },
  {
   "cell_type": "markdown",
   "metadata": {},
   "source": [
    "# Exercise 39"
   ]
  },
  {
   "cell_type": "code",
   "execution_count": 9,
   "metadata": {},
   "outputs": [
    {
     "name": "stdout",
     "output_type": "stream",
     "text": [
      "----------\n",
      "Michigan's abbreviation is:  MI\n",
      "Florida's abbreviation is:  FL\n",
      "----------\n",
      "Michigan has:  Detroit\n",
      "Florida has:  Jacksonville\n",
      "----------\n",
      "New York is abbreviated NY\n",
      "California is abbreviated CA\n",
      "Oregon is abbreviated OR\n",
      "Florida is abbreviated FL\n",
      "Michigan is abbreviated MI\n",
      "----------\n",
      "NY has the city New york\n",
      "OR has the city Portland\n",
      "MI has the city Detroit\n",
      "CA has the city San Francisco\n",
      "FL has the city Jacksonville\n",
      "----------\n",
      "New York state is abbreviated NY\n",
      "and has city ()\n",
      "California state is abbreviated CA\n",
      "and has city ()\n",
      "Oregon state is abbreviated OR\n",
      "and has city ()\n",
      "Florida state is abbreviated FL\n",
      "and has city ()\n",
      "Michigan state is abbreviated MI\n",
      "and has city ()\n",
      "----------\n",
      "Sorry, no Texas.\n",
      "The city for the state 'TX' is: Does Not Exist\n"
     ]
    }
   ],
   "source": [
    "# create a mapping of state to abbreviation\n",
    "states = {\n",
    "    'Oregon': 'OR',\n",
    "    'Florida': 'FL',\n",
    "    'California': 'CA',\n",
    "    'New York': 'NY',\n",
    "    'Michigan': 'MI'\n",
    "}\n",
    "\n",
    "# create a basic set of states and some cities in them\n",
    "cities = {\n",
    "    'CA': 'San Francisco',\n",
    "    'MI': 'Detroit',\n",
    "    'FL': 'Jacksonville'\n",
    "}\n",
    "\n",
    "# add some more cities\n",
    "cities['NY'] = 'New york'\n",
    "cities['OR'] = 'Portland'\n",
    "\n",
    "# print some states\n",
    "print('-'*10)\n",
    "print(\"Michigan's abbreviation is: \", states['Michigan'])\n",
    "print(\"Florida's abbreviation is: \", states['Florida'])\n",
    "\n",
    "# do it by using the state then cities dict\n",
    "print('-'*10)\n",
    "print(\"Michigan has: \", cities[states['Michigan']])\n",
    "print(\"Florida has: \", cities[states['Florida']])\n",
    "\n",
    "# print every state abbreviation\n",
    "print('-'*10)\n",
    "for state, abbrev in list(states.items()):\n",
    "    print(\"{} is abbreviated {}\".format(state, abbrev))\n",
    "\n",
    "# print every city in state\n",
    "print('-'*10)\n",
    "for abbrev, city in list(cities.items()):\n",
    "    print(\"{} has the city {}\".format(abbrev, city))\n",
    "    \n",
    "# how do both at the same time\n",
    "print('-'*10)\n",
    "for state, abbrev in list(states.items()):\n",
    "    print(\"{} state is abbreviated {}\".format(state, abbrev))\n",
    "    print(\"and has city ()\".format(cities[abbrev]))\n",
    "    \n",
    "print('-'*10)\n",
    "# safely get a abbreviation by state that might not be there\n",
    "state = states.get('Texas')\n",
    "\n",
    "if not state:\n",
    "    print(\"Sorry, no Texas.\")\n",
    "\n",
    "# get a city with a default value\n",
    "city = cities.get('TX', 'Does Not Exist')\n",
    "print(\"The city for the state 'TX' is: {}\".format(city))"
   ]
  },
  {
   "cell_type": "markdown",
   "metadata": {},
   "source": [
    "\n",
    "# Exercise 38"
   ]
  },
  {
   "cell_type": "code",
   "execution_count": 6,
   "metadata": {},
   "outputs": [
    {
     "name": "stdout",
     "output_type": "stream",
     "text": [
      "Let's print ten things:  Apples Oranges Crows Telephone Light Sugar\n",
      "Wait there are not 10 things in that list. Let's fix it!\n",
      "Adding:  Boy\n",
      "There are 7 items now.\n",
      "Adding:  Girl\n",
      "There are 8 items now.\n",
      "Adding:  Banana\n",
      "There are 9 items now.\n",
      "Adding:  Corn\n",
      "There are 10 items now.\n",
      "There we go:  ['Apples', 'Oranges', 'Crows', 'Telephone', 'Light', 'Sugar', 'Boy', 'Girl', 'Banana', 'Corn']\n",
      "Let's do some things with stuff.\n",
      "Oranges\n",
      "Corn\n",
      "Corn\n",
      "Apples Oranges Crows Telephone Light Sugar Boy Girl Banana\n",
      "Telephone#Light#Sugar\n"
     ]
    }
   ],
   "source": [
    "ten_things = \"Apples Oranges Crows Telephone Light Sugar\"\n",
    "\n",
    "print(\"Let's print ten things: \", ten_things)\n",
    "print(\"Wait there are not 10 things in that list. Let's fix it!\")\n",
    "\n",
    "stuff = ten_things.split(' ')\n",
    "more_stuff = ['Day', 'Night', 'Song', 'Frisbee', 'Corn', 'Banana', 'Girl', 'Boy']\n",
    "\n",
    "while len(stuff) != 10:\n",
    "    next_one = more_stuff.pop()\n",
    "    print(\"Adding: \", next_one)\n",
    "    stuff.append(next_one)\n",
    "    print(\"There are {} items now.\".format(len(stuff)))\n",
    "    \n",
    "print(\"There we go: \", stuff)\n",
    "\n",
    "print(\"Let's do some things with stuff.\")\n",
    "\n",
    "print(stuff[1])\n",
    "print(stuff[-1])\n",
    "print(stuff.pop())\n",
    "print(' '.join(stuff))\n",
    "print('#'.join(stuff[3:6]))"
   ]
  },
  {
   "cell_type": "markdown",
   "metadata": {},
   "source": [
    "# Exercise 37\n",
    "symbol review"
   ]
  },
  {
   "cell_type": "markdown",
   "metadata": {},
   "source": [
    "# Exercise 36\n",
    "my own game as in ex35"
   ]
  },
  {
   "cell_type": "code",
   "execution_count": 2,
   "metadata": {
    "collapsed": true
   },
   "outputs": [],
   "source": [
    "def room_one():\n",
    "    pass\n",
    "\n",
    "room_one()"
   ]
  },
  {
   "cell_type": "markdown",
   "metadata": {},
   "source": [
    "# Exercise 35"
   ]
  },
  {
   "cell_type": "code",
   "execution_count": null,
   "metadata": {},
   "outputs": [
    {
     "name": "stdout",
     "output_type": "stream",
     "text": [
      "You are in a dark room.\n",
      "There is a door to your right and left.\n",
      "Which one do you take?\n",
      "> right\n",
      "Here you see the great evil Cthulhu.\n",
      "He, it, whatever stares at you and you go insane.\n",
      "Do you flee for your life or eat your head?\n",
      "> flee\n",
      "You are in a dark room.\n",
      "There is a door to your right and left.\n",
      "Which one do you take?\n",
      "> left\n",
      "There is a bear here.\n",
      "The bear has a bunch of honey.\n",
      "The fat bear is in front of another door.\n",
      "How are you going to move the bear?\n",
      "> a\n",
      "I got no idea what that means.\n",
      "> take honey\n",
      "The bear looks at you then slaps your face off. Good job!\n",
      "> taunt bear\n",
      "The bear has moved from the door.\n",
      "You can go through it now.\n",
      "> open door\n",
      "This room is full of gold. How much do you take?\n",
      "> 33\n",
      "Nice, you're not greedy, you win!\n",
      "> 44\n",
      "I got no idea what that means.\n",
      "> 2\n",
      "I got no idea what that means.\n",
      "> open door\n",
      "This room is full of gold. How much do you take?\n",
      "> 555\n",
      "You greedy bastard! Good job!\n"
     ]
    }
   ],
   "source": [
    "from sys import exit\n",
    "        \n",
    "def dead(why):\n",
    "    print(why, \"Good job!\")\n",
    "    exit(0)\n",
    "        \n",
    "def gold_room():\n",
    "    print(\"This room is full of gold. How much do you take?\")\n",
    "    \n",
    "    how_much = int(input(\"> \"))\n",
    "    if how_much <= 1:\n",
    "        dead(\"It's not much!\")\n",
    "    elif 1 < how_much < 50:\n",
    "        print(\"Nice, you're not greedy, you win!\")\n",
    "        #exit(0)\n",
    "    elif how_much > 50:\n",
    "        dead(\"You greedy bastard!\")\n",
    "    else:\n",
    "        dead(\"Man, learn to type a number.\")\n",
    "\n",
    "def  bear_room():\n",
    "    print(\"There is a bear here.\")\n",
    "    print(\"The bear has a bunch of honey.\")\n",
    "    print(\"The fat bear is in front of another door.\")\n",
    "    print(\"How are you going to move the bear?\")\n",
    "    bear_moved = False\n",
    "    \n",
    "    while True:\n",
    "        choice = input(\"> \")\n",
    "        \n",
    "        if choice == \"take honey\":\n",
    "            dead(\"The bear looks at you then slaps your face off.\")\n",
    "        elif choice == \"taunt bear\" and not bear_moved:\n",
    "            print(\"The bear has moved from the door.\")\n",
    "            print(\"You can go through it now.\")\n",
    "            bear_moved = True\n",
    "        elif choice == \"taunt bear\" and bear_moved:\n",
    "            dead(\"The bear gets pissed off and chews your legs off.\")\n",
    "        elif choice == \"open door\" and bear_moved:\n",
    "            gold_room()\n",
    "        else:\n",
    "            print(\"I got no idea what that means.\")\n",
    "\n",
    "def cthulhu_room():\n",
    "    print(\"Here you see the great evil Cthulhu.\")\n",
    "    print(\"He, it, whatever stares at you and you go insane.\")\n",
    "    print(\"Do you flee for your life or eat your head?\")\n",
    "    \n",
    "    choice = input(\"> \")\n",
    "    \n",
    "    if \"flee\" in choice:\n",
    "        start()\n",
    "    elif \"head\" in choice:\n",
    "        dead(\"Well that was tasty!\")\n",
    "    else:\n",
    "        cthulhu_room()\n",
    "def start():\n",
    "    print(\"You are in a dark room.\")\n",
    "    print(\"There is a door to your right and left.\")\n",
    "    print(\"Which one do you take?\")\n",
    "    \n",
    "    choice = input(\"> \")\n",
    "    \n",
    "    if choice == \"left\":\n",
    "        bear_room()\n",
    "    elif choice == \"right\":\n",
    "        cthulhu_room()\n",
    "    else:\n",
    "        dead(\"You stumble around the room until you starve.\")\n",
    "        \n",
    "start()"
   ]
  },
  {
   "cell_type": "markdown",
   "metadata": {},
   "source": [
    "# Exercise 34"
   ]
  },
  {
   "cell_type": "code",
   "execution_count": 75,
   "metadata": {},
   "outputs": [
    {
     "name": "stdout",
     "output_type": "stream",
     "text": [
      "Choose an animal 1-5: 1\n"
     ]
    },
    {
     "data": {
      "text/plain": [
       "'bear'"
      ]
     },
     "execution_count": 75,
     "metadata": {},
     "output_type": "execute_result"
    }
   ],
   "source": [
    "animals = ['bear', 'python3.6', 'peacock', 'kangaroo', 'whale']\n",
    "animals[int(input(\"Choose an animal 1-5: \"))-1]"
   ]
  },
  {
   "cell_type": "markdown",
   "metadata": {},
   "source": [
    "# Exercise 33"
   ]
  },
  {
   "cell_type": "code",
   "execution_count": 73,
   "metadata": {},
   "outputs": [
    {
     "name": "stdout",
     "output_type": "stream",
     "text": [
      "At the top i is 0\n",
      "Numbers now:  [0]\n",
      "At the bottom i is 1\n",
      "At the top i is 1\n",
      "Numbers now:  [0, 1]\n",
      "At the bottom i is 2\n",
      "At the top i is 2\n",
      "Numbers now:  [0, 1, 2]\n",
      "At the bottom i is 3\n",
      "At the top i is 3\n",
      "Numbers now:  [0, 1, 2, 3]\n",
      "At the bottom i is 4\n",
      "At the top i is 4\n",
      "Numbers now:  [0, 1, 2, 3, 4]\n",
      "At the bottom i is 5\n",
      "At the top i is 5\n",
      "Numbers now:  [0, 1, 2, 3, 4, 5]\n",
      "At the bottom i is 6\n",
      "The numbers: \n",
      "0\n",
      "1\n",
      "2\n",
      "3\n",
      "4\n",
      "5\n"
     ]
    }
   ],
   "source": [
    "i = 0\n",
    "numbers = []\n",
    "\n",
    "while i < 6:\n",
    "    print(\"At the top i is {}\".format(i))\n",
    "    numbers.append(i)\n",
    "    \n",
    "    \n",
    "    i += 1\n",
    "    print(\"Numbers now: \", numbers)\n",
    "    print(\"At the bottom i is {}\".format(i))\n",
    "    \n",
    "print(\"The numbers: \")\n",
    "\n",
    "for num in numbers:\n",
    "    print(num)"
   ]
  },
  {
   "cell_type": "markdown",
   "metadata": {},
   "source": [
    "# Exercise 32"
   ]
  },
  {
   "cell_type": "code",
   "execution_count": 72,
   "metadata": {},
   "outputs": [
    {
     "name": "stdout",
     "output_type": "stream",
     "text": [
      "This is count 1\n",
      "This is count 2\n",
      "This is count 3\n",
      "This is count 4\n",
      "This is count 5\n",
      "A fruit of type: apples\n",
      "A fruit of type: oranges\n",
      "A fruit of type: pears\n",
      "A fruit of type: apricots\n",
      "I got 1\n",
      "I got pennies\n",
      "I got 2\n",
      "I got dimes\n",
      "I got 3\n",
      "I got quarters\n",
      "Adding 0 to the list.\n",
      "Adding 1 to the list.\n",
      "Adding 2 to the list.\n",
      "Adding 3 to the list.\n",
      "Adding 4 to the list.\n",
      "Adding 5 to the list.\n",
      "Element was: 0\n",
      "Element was: 1\n",
      "Element was: 2\n",
      "Element was: 3\n",
      "Element was: 4\n",
      "Element was: 5\n"
     ]
    }
   ],
   "source": [
    "#the_count = [1, 2, 3, 4, 5]\n",
    "the_count = list(range(1,6))\n",
    "fruits = ['apples', 'oranges', 'pears', 'apricots']\n",
    "change = [1, 'pennies', 2, 'dimes', 3, 'quarters']\n",
    "\n",
    "# this first kind of for-loop goes through a list\n",
    "for number in the_count:\n",
    "    print(\"This is count {}\".format(number))\n",
    "    \n",
    "# same as above\n",
    "for fruit in fruits:\n",
    "    print(\"A fruit of type: {}\".format(fruit))\n",
    "    \n",
    "# also we can go through mixed lists too\n",
    "# notice we have to use {} since we don't know what's in it\n",
    "for i in change:\n",
    "    print(\"I got {}\".format(i))\n",
    "\n",
    "# we can also uild lists, first start with an empty one\n",
    "elements = []\n",
    "\n",
    "# then use the range function to do 0 to 5 counts\n",
    "for i in range(0,6):\n",
    "    print(\"Adding {} to the list.\".format(i))\n",
    "    # append is a function that lists understand\n",
    "    elements.append(i)\n",
    "# or instead\n",
    "#elements = list(range(0,6))\n",
    "\n",
    "\n",
    "# now we can print them out too\n",
    "for i in elements:\n",
    "    print(\"Element was: {}\".format(i))"
   ]
  },
  {
   "cell_type": "markdown",
   "metadata": {},
   "source": [
    "# Exercise 31"
   ]
  },
  {
   "cell_type": "code",
   "execution_count": 67,
   "metadata": {},
   "outputs": [
    {
     "name": "stdout",
     "output_type": "stream",
     "text": [
      "You enter a dark room with two doors. Do you go through door #1 or door #2?\n",
      "> 2\n",
      "You stare into the endless abyss at Cthulhu's retina\n",
      "1. Blueberries.\n",
      "2. Yellow jacket clothespins.\n",
      "3. Understanding revolvers yelling melodies.\n",
      "> 3\n",
      "The insanity rots your eyes into a pool of muck. Good job!\n"
     ]
    }
   ],
   "source": [
    "print(\"\"\"You enter a dark room with two doors. Do you go through door #1 or door #2?\"\"\")\n",
    "\n",
    "door = input(\"> \")\n",
    "\n",
    "if door == \"1\":\n",
    "    print(\"There's a giant bear here eating a cheese cake.\")\n",
    "    print(\"What do you do?\")\n",
    "    print(\"1. Thake the cake.\")\n",
    "    print(\"2. Scream at the bear.\")\n",
    "    \n",
    "    bear = input(\"> \")\n",
    "    \n",
    "    if bear == \"1\":\n",
    "        print(\"The bear eats your face off. Good job!\")\n",
    "    elif bear == \"2\":\n",
    "        print(\"The bear eats your legs off. Good job!\")\n",
    "    else:\n",
    "        print(\"Well, doing {} is probably better.\")\n",
    "        print(\"Bear runs away.\")\n",
    "    \n",
    "elif door == \"2\":\n",
    "    print(\"You stare into the endless abyss at Cthulhu's retina\")\n",
    "    print(\"1. Blueberries.\")\n",
    "    print(\"2. Yellow jacket clothespins.\")\n",
    "    print(\"3. Understanding revolvers yelling melodies.\")\n",
    "    \n",
    "    insanity = input(\"> \")\n",
    "    \n",
    "    if insanity == \"1\" or insanity == \"2\":\n",
    "        print(\"Your body survives powered by a mind of jello. Good job!\")\n",
    "    else:\n",
    "        print(\"The insanity rots your eyes into a pool of muck. Good job!\")\n",
    "        \n",
    "else:\n",
    "    print(\"You stumble around and fall on a knife and die. Good job!\")"
   ]
  },
  {
   "cell_type": "markdown",
   "metadata": {},
   "source": [
    "# Exercise 30"
   ]
  },
  {
   "cell_type": "code",
   "execution_count": 62,
   "metadata": {},
   "outputs": [
    {
     "name": "stdout",
     "output_type": "stream",
     "text": [
      "We should take the cars.\n",
      "Maybe we could take the trucks.\n",
      "Alright, let's just take the trucks.\n"
     ]
    }
   ],
   "source": [
    "people = 30\n",
    "cars = 40\n",
    "trucks = 15\n",
    "\n",
    "if cars > people:\n",
    "    print(\"We should take the cars.\")\n",
    "elif cars < people:\n",
    "    print(\"We shold not take the cars.\")\n",
    "else:\n",
    "    print(\"We can't decide.\")\n",
    "    \n",
    "if trucks > cars:\n",
    "    print(\"That's too many trucks.\")\n",
    "elif trucks < cars:\n",
    "    print(\"Maybe we could take the trucks.\")\n",
    "else:\n",
    "    print(\"We still can't decide.\")\n",
    "    \n",
    "if people > trucks:\n",
    "    print(\"Alright, let's just take the trucks.\")\n",
    "else:\n",
    "    print(\"Fine, let's stay home then.\")"
   ]
  },
  {
   "cell_type": "markdown",
   "metadata": {},
   "source": [
    "# Exercise 29"
   ]
  },
  {
   "cell_type": "code",
   "execution_count": 59,
   "metadata": {},
   "outputs": [
    {
     "name": "stdout",
     "output_type": "stream",
     "text": [
      "Too many cats! The world is doomed!\n",
      "The world is dry!\n",
      "People are greater than or equal to dogs.\n",
      "People are less than or equal to dogs.\n",
      "People are dogs.\n"
     ]
    }
   ],
   "source": [
    "people = 20\n",
    "cats = 30\n",
    "dogs = 15\n",
    "\n",
    "if people < cats:\n",
    "    print(\"Too many cats! The world is doomed!\")\n",
    "    \n",
    "if people > cats:\n",
    "    print(\"Not many cats! The world is saved!\")\n",
    "    \n",
    "if people < dogs:\n",
    "    print(\"The world is drooled on!\")\n",
    "\n",
    "if people > dogs:\n",
    "    print(\"The world is dry!\")\n",
    "    \n",
    "dogs += 5\n",
    "\n",
    "if people >= dogs:\n",
    "    print(\"People are greater than or equal to dogs.\")\n",
    "    \n",
    "if people <= dogs:\n",
    "    print(\"People are less than or equal to dogs.\")\n",
    "    \n",
    "if people == dogs:\n",
    "    print(\"People are dogs.\")"
   ]
  },
  {
   "cell_type": "markdown",
   "metadata": {},
   "source": [
    "# Exercise 28"
   ]
  },
  {
   "cell_type": "code",
   "execution_count": 56,
   "metadata": {},
   "outputs": [
    {
     "data": {
      "text/plain": [
       "False"
      ]
     },
     "execution_count": 56,
     "metadata": {},
     "output_type": "execute_result"
    }
   ],
   "source": [
    "True and True # True\n",
    "False and True # False\n",
    "1== 1 and 2 == 1 # False\n",
    "\"test\" == 'test' # True\n",
    "1 == 1 or 2 != 1 # True\n",
    "True and 1 == 1 # True\n",
    "False and 0 != 0 # False\n",
    "True or 1 == 1 # True\n",
    "\"test\" == \"testing\" # False\n",
    "\"test\" == 1 # False\n",
    "not (True and False) # True\n",
    "not(1 == 1 and 0 != 1) # False\n",
    "not (10 == 1 or 1000 == 1000) # False\n",
    "not (1 != 10 or 3 == 4) # False\n",
    "not (\"testing\" == \"testing\" and \"Zed\" == \"Cool Guy\") # True\n",
    "1 == 1 and (not (\"testing\" == 1 or 1 == 0)) # True\n",
    "\"chunky\" == \"bacon\" and (not(3 == 4 or 3 == 3)) # False\n",
    "3 == 3 and (not(\"testing\" == \"testing\" or \"Python\" == \"Fun\")) # False"
   ]
  },
  {
   "cell_type": "markdown",
   "metadata": {},
   "source": [
    "# Exercise 27\n",
    "    logic"
   ]
  },
  {
   "cell_type": "markdown",
   "metadata": {},
   "source": [
    "# Exercise 26"
   ]
  },
  {
   "cell_type": "code",
   "execution_count": 34,
   "metadata": {},
   "outputs": [
    {
     "name": "stdout",
     "output_type": "stream",
     "text": [
      "How old are you? 2\n",
      "How tall are you? 3\n",
      "How much do you weigh? 4\n",
      "So, you're 2 old, 3 tall and 4 heavy.\n",
      "Here's your file ex26_sample.txt:\n",
      "to jest text \n",
      "do zadania 15\n",
      "\n",
      "i jeszcze troche tekstu\n",
      "Type the filename again:\n",
      "> ex26_sample.txt\n",
      "to jest text \n",
      "do zadania 15\n",
      "\n",
      "i jeszcze troche tekstu\n",
      "Let's practice everything.\n",
      "You'd need to know 'bout escapes with \\ that do \n",
      " newlines and \t tabs.\n",
      "--------------\n",
      "\n",
      "\tThe lovely world\n",
      "with logic so firmly planted\n",
      "cannot discern \n",
      " the needs of love\n",
      "nor comprehend passion from intuition\n",
      "and requires an explanation\n",
      "\n",
      "\t\twhere there is none.\n",
      "\n",
      "--------------\n",
      "This should be five: 5\n"
     ]
    }
   ],
   "source": [
    "print(\"How old are you?\", end=' ')\n",
    "age = input()\n",
    "print(\"How tall are you?\", end=' ')\n",
    "height = input()\n",
    "print(\"How much do you weigh?\", end=' ')\n",
    "weight = input()\n",
    "\n",
    "print(\"So, you're {} old, {} tall and {} heavy.\".format(age, height, weight))\n",
    "\n",
    "#from sys import argv\n",
    "#script, filename = argv\n",
    "\n",
    "filename = 'ex26_sample.txt'\n",
    "\n",
    "txt = open(filename)\n",
    "\n",
    "print(\"Here's your file {}:\".format(filename))\n",
    "print(txt.read())\n",
    "\n",
    "print(\"Type the filename again:\")\n",
    "file_again = input(\"> \")\n",
    "\n",
    "txt_again = open(file_again)\n",
    "\n",
    "print(txt_again.read())\n",
    "\n",
    "\n",
    "print('Let\\'s practice everything.')\n",
    "print('You\\'d need to know \\'bout escapes with \\\\ that do \\n newlines and \\t tabs.')\n",
    "\n",
    "poem = \"\"\"\n",
    "\\tThe lovely world\n",
    "with logic so firmly planted\n",
    "cannot discern \\n the needs of love\n",
    "nor comprehend passion from intuition\n",
    "and requires an explanation\n",
    "\\n\\t\\twhere there is none.\n",
    "\"\"\"\n",
    "\n",
    "print(\"--------------\")\n",
    "print(poem)\n",
    "print(\"--------------\")\n",
    "\n",
    "\n",
    "five = 10 - 2 + 3 - 6\n",
    "print(\"This should be five: {}\".format(five))"
   ]
  },
  {
   "cell_type": "code",
   "execution_count": 38,
   "metadata": {},
   "outputs": [
    {
     "name": "stdout",
     "output_type": "stream",
     "text": [
      "With a starting point of: 10000\n",
      "We can also do that this way:\n",
      "We'd have 500000.0 beans, 500.0 jars, and 50000.0 crates.\n",
      "Too many cats! The world is doomed!\n",
      "The world is dry!\n",
      "People are greater than or equal to dogs.\n",
      "People are less than or equal to dogs.\n",
      "People are dogs.\n"
     ]
    }
   ],
   "source": [
    "def secret_formula(started):\n",
    "    jelly_beans = started * 500\n",
    "    jars = jelly_beans / 1000\n",
    "    crates = jars * 100\n",
    "    return jelly_beans, jars, crates\n",
    "\n",
    "\n",
    "start_point = 10000\n",
    "beans, jars, crates = secret_formula(start_point)\n",
    "\n",
    "# remember that this is another way to format a string\n",
    "print(\"With a starting point of: {}\".format(start_point))\n",
    "# it's just like with an f\"\" string\n",
    "#print(f\"We'd have {beans} beans, {jars} jars, and {crates} crates.\")\n",
    "\n",
    "start_point = start_point / 10\n",
    "\n",
    "print(\"We can also do that this way:\")\n",
    "formula = secret_formula(start_point)\n",
    "# this is an easy way to apply a list to a format string\n",
    "print(\"We'd have {} beans, {} jars, and {} crates.\".format(*formula))\n",
    "\n",
    "\n",
    "\n",
    "people = 20\n",
    "cats = 30\n",
    "dogs = 15\n",
    "\n",
    "\n",
    "if people < cats:\n",
    "    print(\"Too many cats! The world is doomed!\")\n",
    "\n",
    "if people > cats:\n",
    "    print(\"Not many cats! The world is saved!\")\n",
    "\n",
    "if people < dogs:\n",
    "    print(\"The world is drooled on!\")\n",
    "\n",
    "if people > dogs:\n",
    "    print(\"The world is dry!\")\n",
    "\n",
    "\n",
    "dogs += 5\n",
    "\n",
    "if people >= dogs:\n",
    "    print(\"People are greater than or equal to dogs.\")\n",
    "\n",
    "if people <= dogs:\n",
    "    print(\"People are less than or equal to dogs.\")\n",
    "\n",
    "\n",
    "if people == dogs:\n",
    "    print(\"People are dogs.\")\n",
    "\n"
   ]
  },
  {
   "cell_type": "markdown",
   "metadata": {},
   "source": [
    "# Exercise 25"
   ]
  },
  {
   "cell_type": "code",
   "execution_count": 26,
   "metadata": {
    "collapsed": true
   },
   "outputs": [],
   "source": [
    "def break_words(stuff):\n",
    "    \"\"\"This function will break up words for us.\"\"\" # documentation comments\n",
    "    words = stuff.split(' ') # describtion of a function visible when > help(function)\n",
    "    return words\n",
    "\n",
    "def sort_words(words):\n",
    "    \"\"\"Sorts the words.\"\"\"\n",
    "    return sorted(words)\n",
    "\n",
    "def print_first_word(words):\n",
    "    \"\"\"Prints the first word after popping it off.\"\"\"\n",
    "    word = words.pop(0) # remove and return item from the list\n",
    "    print(word)\n",
    "    \n",
    "def print_last_word(words):\n",
    "    \"\"\"Prints the last word after popping it off.\"\"\"\n",
    "    word = words.pop(-1)\n",
    "    print(word)\n",
    "    \n",
    "def sort_sentence(sentence):\n",
    "    \"\"\"Takes in a full sentence and returns the sorted words.\"\"\"\n",
    "    words = break_words(sentence)\n",
    "    return sort_words(words)\n",
    "\n",
    "def print_first_and_last(sentence):\n",
    "    \"\"\"Prints the first and last words of the sentence.\"\"\"\n",
    "    words = break_words(sentence)\n",
    "    print_first_word(words)\n",
    "    print_last_word(words)\n",
    "\n",
    "def print_first_and_last_sorted(sentence):\n",
    "    \"\"\"Sorts the words then prints the first and last one.\"\"\"\n",
    "    words = sort_sentence(sentence)\n",
    "    print_first_word(words)\n",
    "    print_last_word(words)"
   ]
  },
  {
   "cell_type": "code",
   "execution_count": 27,
   "metadata": {},
   "outputs": [
    {
     "data": {
      "text/plain": [
       "['All', 'good', 'things', 'come', 'to', 'those', 'who', 'wait.']"
      ]
     },
     "execution_count": 27,
     "metadata": {},
     "output_type": "execute_result"
    }
   ],
   "source": [
    "sentence = \"All good things come to those who wait.\"\n",
    "words = break_words(sentence)\n",
    "words"
   ]
  },
  {
   "cell_type": "code",
   "execution_count": 28,
   "metadata": {},
   "outputs": [
    {
     "data": {
      "text/plain": [
       "['All', 'come', 'good', 'things', 'those', 'to', 'wait.', 'who']"
      ]
     },
     "execution_count": 28,
     "metadata": {},
     "output_type": "execute_result"
    }
   ],
   "source": [
    "sorted_words = sort_words(words)\n",
    "sorted_words"
   ]
  },
  {
   "cell_type": "code",
   "execution_count": 29,
   "metadata": {},
   "outputs": [
    {
     "name": "stdout",
     "output_type": "stream",
     "text": [
      "All\n",
      "wait.\n"
     ]
    },
    {
     "data": {
      "text/plain": [
       "['good', 'things', 'come', 'to', 'those', 'who']"
      ]
     },
     "execution_count": 29,
     "metadata": {},
     "output_type": "execute_result"
    }
   ],
   "source": [
    "print_first_word(words)\n",
    "print_last_word(words)\n",
    "words"
   ]
  },
  {
   "cell_type": "code",
   "execution_count": 30,
   "metadata": {},
   "outputs": [
    {
     "name": "stdout",
     "output_type": "stream",
     "text": [
      "All\n",
      "who\n"
     ]
    },
    {
     "data": {
      "text/plain": [
       "['come', 'good', 'things', 'those', 'to', 'wait.']"
      ]
     },
     "execution_count": 30,
     "metadata": {},
     "output_type": "execute_result"
    }
   ],
   "source": [
    "print_first_word(sorted_words)\n",
    "print_last_word(sorted_words)\n",
    "sorted_words"
   ]
  },
  {
   "cell_type": "code",
   "execution_count": 31,
   "metadata": {},
   "outputs": [
    {
     "name": "stdout",
     "output_type": "stream",
     "text": [
      "All\n",
      "wait.\n",
      "All\n",
      "who\n"
     ]
    }
   ],
   "source": [
    "sorted_words = sort_sentence(sentence)\n",
    "sorted_words\n",
    "print_first_and_last(sentence)\n",
    "print_first_and_last_sorted(sentence)"
   ]
  },
  {
   "cell_type": "code",
   "execution_count": 32,
   "metadata": {},
   "outputs": [
    {
     "name": "stdout",
     "output_type": "stream",
     "text": [
      "Help on function break_words in module __main__:\n",
      "\n",
      "break_words(stuff)\n",
      "    This function will break up words for us.\n",
      "\n"
     ]
    }
   ],
   "source": [
    "help(break_words)"
   ]
  },
  {
   "cell_type": "markdown",
   "metadata": {},
   "source": [
    "# Exercise 24"
   ]
  },
  {
   "cell_type": "code",
   "execution_count": 24,
   "metadata": {},
   "outputs": [
    {
     "name": "stdout",
     "output_type": "stream",
     "text": [
      "Let's practice everything.\n",
      "You'd need to know 'bout escapes with \\ that do:\n",
      "\n",
      " newlines and \t tabs.\n",
      "----------\n",
      "\n",
      "\t The lovely world\n",
      "with logic so firmly planted\n",
      "cannot discern \n",
      " the needs of love\n",
      "nor comprehend passion from intuition\n",
      "and requires an explanation\n",
      "\n",
      "\t\twhere ther is none.\n",
      "\n",
      "----------\n",
      "This should be five: \n",
      "With a starting point of: 10000\n",
      "We'd have 5000000 beans, 5000.0 jars, and 50.0 crates\n",
      "We can also do that this way:\n",
      "We'd have 500000.0 beans, 500.0 jars, and 5.0 crates.\n"
     ]
    }
   ],
   "source": [
    "print(\"Let's practice everything.\")\n",
    "print('You\\'d need to know \\'bout escapes with \\\\ that do:')\n",
    "print('\\n newlines and \\t tabs.')\n",
    "\n",
    "poem = \"\"\"\n",
    "\\t The lovely world\n",
    "with logic so firmly planted\n",
    "cannot discern \\n the needs of love\n",
    "nor comprehend passion from intuition\n",
    "and requires an explanation\n",
    "\\n\\t\\twhere ther is none.\n",
    "\"\"\"\n",
    "\n",
    "print(\"-\"*10)\n",
    "print(poem)\n",
    "print(\"-\"*10)\n",
    "\n",
    "five = 10 - 2 + 3 - 6\n",
    "print(\"This should be five: \".format(five))\n",
    "\n",
    "def secret_formula(started):\n",
    "    jelly_beans = started * 500\n",
    "    jars = jelly_beans / 1000\n",
    "    crates = jars / 100\n",
    "    return jelly_beans, jars, crates\n",
    "\n",
    "start_point = 10000\n",
    "beans, jars, crates = secret_formula(start_point)\n",
    "\n",
    "# remember that this is another way to format a string\n",
    "print(\"With a starting point of: {}\".format(start_point))\n",
    "# it's just like with an f\"\" string\n",
    "print(\"We'd have {} beans, {} jars, and {} crates\".format(beans, jars, crates))\n",
    "\n",
    "start_point = start_point / 10\n",
    "\n",
    "print(\"We can also do that this way:\")\n",
    "formula = secret_formula(start_point)\n",
    "\n",
    "# this is an easy way to apply a list to a format string\n",
    "print(\"We'd have {} beans, {} jars, and {} crates.\".format(*formula)) # interesujacy sposob przekazywania zmiennych"
   ]
  },
  {
   "cell_type": "markdown",
   "metadata": {},
   "source": [
    "# Exercise 23"
   ]
  },
  {
   "cell_type": "code",
   "execution_count": 22,
   "metadata": {},
   "outputs": [
    {
     "name": "stdout",
     "output_type": "stream",
     "text": [
      "b'\\xff\\xfeA\\x00f\\x00r\\x00i\\x00k\\x00a\\x00a\\x00n\\x00s\\x00' <====> Afrikaans\n",
      "b'\\xff\\xfe\\xa0\\x12\\x1b\\x12-\\x12\\x9b\\x12' <====> አማርኛ\n",
      "b'\\xff\\xfe\\x10\\x04\\xa7\\x04A\\x04H\\x04\\xd9\\x040\\x04' <====> Аҧсшәа\n",
      "b\"\\xff\\xfe'\\x06D\\x069\\x061\\x06(\\x06J\\x06)\\x06\" <====> العربية\n",
      "b'\\xff\\xfeA\\x00r\\x00a\\x00g\\x00o\\x00n\\x00\\xe9\\x00s\\x00' <====> Aragonés\n",
      "b'\\xff\\xfeA\\x00r\\x00p\\x00e\\x00t\\x00a\\x00n\\x00' <====> Arpetan\n",
      "b'\\xff\\xfeA\\x00z\\x00Y\\x02r\\x00b\\x00a\\x00y\\x00c\\x00a\\x00n\\x00c\\x00a\\x00' <====> Azərbaycanca\n",
      "b'\\xff\\xfeB\\x00a\\x00m\\x00a\\x00n\\x00a\\x00n\\x00k\\x00a\\x00n\\x00' <====> Bamanankan\n",
      "b'\\xff\\xfe\\xac\\t\\xbe\\t\\x82\\t\\xb2\\t\\xbe\\t' <====> বাংলা\n",
      "b'\\xff\\xfeB\\x00\\xe2\\x00n\\x00-\\x00l\\x00\\xe2\\x00m\\x00-\\x00g\\x00\\xfa\\x00' <====> Bân-lâm-gú\n",
      "b'\\xff\\xfe\\x11\\x045\\x04;\\x040\\x04@\\x04C\\x04A\\x04:\\x040\\x04O\\x04' <====> Беларуская\n",
      "b'\\xff\\xfe\\x11\\x04J\\x04;\\x043\\x040\\x04@\\x04A\\x04:\\x048\\x04' <====> Български\n",
      "b'\\xff\\xfeB\\x00o\\x00a\\x00r\\x00i\\x00s\\x00c\\x00h\\x00' <====> Boarisch\n",
      "b'\\xff\\xfeB\\x00o\\x00s\\x00a\\x00n\\x00s\\x00k\\x00i\\x00' <====> Bosanski\n",
      "b'\\xff\\xfe\\x11\\x04C\\x04@\\x04O\\x040\\x044\\x04' <====> Буряад\n",
      "b'\\xff\\xfeC\\x00a\\x00t\\x00a\\x00l\\x00\\xe0\\x00' <====> Català\n",
      "b\"\\xff\\xfe'\\x04\\xd1\\x042\\x040\\x04H\\x04;\\x040\\x04\" <====> Чӑвашла\n",
      "b'\\xff\\xfe\\x0c\\x01e\\x00a\\x01t\\x00i\\x00n\\x00a\\x00' <====> Čeština\n",
      "b'\\xff\\xfeC\\x00y\\x00m\\x00r\\x00a\\x00e\\x00g\\x00' <====> Cymraeg\n",
      "b'\\xff\\xfeD\\x00a\\x00n\\x00s\\x00k\\x00' <====> Dansk\n",
      "b'\\xff\\xfeD\\x00e\\x00u\\x00t\\x00s\\x00c\\x00h\\x00' <====> Deutsch\n",
      "b'\\xff\\xfeE\\x00e\\x00s\\x00t\\x00i\\x00' <====> Eesti\n",
      "b'\\xff\\xfe\\x95\\x03\\xbb\\x03\\xbb\\x03\\xb7\\x03\\xbd\\x03\\xb9\\x03\\xba\\x03\\xac\\x03' <====> Ελληνικά\n",
      "b'\\xff\\xfeE\\x00s\\x00p\\x00a\\x00\\xf1\\x00o\\x00l\\x00' <====> Español\n",
      "b'\\xff\\xfeE\\x00s\\x00p\\x00e\\x00r\\x00a\\x00n\\x00t\\x00o\\x00' <====> Esperanto\n",
      "b\"\\xff\\xfeA\\x06'\\x061\\x063\\x06\\xcc\\x06\" <====> فارسی\n",
      "b'\\xff\\xfeF\\x00r\\x00a\\x00n\\x00\\xe7\\x00a\\x00i\\x00s\\x00' <====> Français\n",
      "b'\\xff\\xfeF\\x00r\\x00y\\x00s\\x00k\\x00' <====> Frysk\n",
      "b'\\xff\\xfeG\\x00a\\x00e\\x00l\\x00g\\x00' <====> Gaelg\n",
      "b'\\xff\\xfeG\\x00\\xe0\\x00i\\x00d\\x00h\\x00l\\x00i\\x00g\\x00' <====> Gàidhlig\n",
      "b'\\xff\\xfeG\\x00a\\x00l\\x00e\\x00g\\x00o\\x00' <====> Galego\n",
      "b'\\xff\\xfe\\\\\\xd5m\\xad\\xb4\\xc5' <====> 한국어\n",
      "b'\\xff\\xfe@\\x05a\\x05u\\x05e\\x05\\x80\\x05e\\x05v\\x05' <====> Հայերեն\n",
      "b'\\xff\\xfe9\\t?\\t(\\tM\\t&\\t@\\t' <====> हिन्दी\n",
      "b'\\xff\\xfeH\\x00r\\x00v\\x00a\\x00t\\x00s\\x00k\\x00i\\x00' <====> Hrvatski\n",
      "b'\\xff\\xfeI\\x00d\\x00o\\x00' <====> Ido\n",
      "b'\\xff\\xfeI\\x00n\\x00t\\x00e\\x00r\\x00l\\x00i\\x00n\\x00g\\x00u\\x00a\\x00' <====> Interlingua\n",
      "b'\\xff\\xfeI\\x00t\\x00a\\x00l\\x00i\\x00a\\x00n\\x00o\\x00' <====> Italiano\n",
      "b'\\xff\\xfe\\xe2\\x05\\xd1\\x05\\xe8\\x05\\xd9\\x05\\xea\\x05' <====> עברית\n",
      "b'\\xff\\xfe\\x95\\x0c\\xa8\\x0c\\xcd\\x0c\\xa8\\x0c\\xa1\\x0c' <====> ಕನ್ನಡ\n",
      "b'\\xff\\xfeK\\x00a\\x00p\\x00a\\x00m\\x00p\\x00a\\x00n\\x00g\\x00a\\x00n\\x00' <====> Kapampangan\n",
      "b'\\xff\\xfe\\xe5\\x10\\xd0\\x10\\xe0\\x10\\xd7\\x10\\xe3\\x10\\xda\\x10\\xd8\\x10' <====> ქართული\n",
      "b'\\xff\\xfe\\x9a\\x040\\x047\\x040\\x04\\x9b\\x04H\\x040\\x04' <====> Қазақша\n",
      "b'\\xff\\xfeK\\x00r\\x00e\\x00y\\x00\\xf2\\x00l\\x00 \\x00a\\x00y\\x00i\\x00s\\x00y\\x00e\\x00n\\x00' <====> Kreyòl ayisyen\n",
      "b'\\xff\\xfeL\\x00a\\x00t\\x00g\\x00a\\x00<\\x01u\\x00' <====> Latgaļu\n",
      "b'\\xff\\xfeL\\x00a\\x00t\\x00i\\x00n\\x00a\\x00' <====> Latina\n",
      "b'\\xff\\xfeL\\x00a\\x00t\\x00v\\x00i\\x00e\\x00a\\x01u\\x00' <====> Latviešu\n",
      "b'\\xff\\xfeL\\x00\\xeb\\x00t\\x00z\\x00e\\x00b\\x00u\\x00e\\x00r\\x00g\\x00e\\x00s\\x00c\\x00h\\x00' <====> Lëtzebuergesch\n",
      "b'\\xff\\xfeL\\x00i\\x00e\\x00t\\x00u\\x00v\\x00i\\x00s\\x01' <====> Lietuvių\n",
      "b'\\xff\\xfeM\\x00a\\x00g\\x00y\\x00a\\x00r\\x00' <====> Magyar\n",
      "b'\\xff\\xfe\\x1c\\x040\\x04:\\x045\\x044\\x04>\\x04=\\x04A\\x04:\\x048\\x04' <====> Македонски\n",
      "b'\\xff\\xfeM\\x00a\\x00l\\x00t\\x00i\\x00' <====> Malti\n",
      "b'\\xff\\xfe.\\t0\\t>\\t \\t@\\t' <====> मराठी\n",
      "b'\\xff\\xfe\\xdb\\x10\\xd0\\x10\\xe0\\x10\\xd2\\x10\\xd0\\x10\\xda\\x10\\xe3\\x10\\xe0\\x10\\xd8\\x10' <====> მარგალური\n",
      "b\"\\xff\\xfeE\\x06'\\x062\\x06P\\x061\\x06H\\x06F\\x06\\xcc\\x06\" <====> مازِرونی\n",
      "b'\\xff\\xfeB\\x00a\\x00h\\x00a\\x00s\\x00a\\x00 \\x00M\\x00e\\x00l\\x00a\\x00y\\x00u\\x00' <====> Bahasa Melayu\n",
      "b'\\xff\\xfe\\x1c\\x04>\\x04=\\x043\\x04>\\x04;\\x04' <====> Монгол\n",
      "b'\\xff\\xfeN\\x00e\\x00d\\x00e\\x00r\\x00l\\x00a\\x00n\\x00d\\x00s\\x00' <====> Nederlands\n",
      "b'\\xff\\xfe(\\tG\\t*\\t>\\t2\\t \\x00-\\t>\\t7\\t>\\t' <====> नेपाल भाषा\n",
      "b'\\xff\\xfe\\xe5e,g\\x9e\\x8a' <====> 日本語\n",
      "b'\\xff\\xfeN\\x00o\\x00r\\x00s\\x00k\\x00 \\x00b\\x00o\\x00k\\x00m\\x00\\xe5\\x00l\\x00' <====> Norsk bokmål\n",
      "b'\\xff\\xfeN\\x00o\\x00u\\x00o\\x00r\\x00m\\x00a\\x00n\\x00d\\x00' <====> Nouormand\n",
      "b'\\xff\\xfeO\\x00c\\x00c\\x00i\\x00t\\x00a\\x00n\\x00' <====> Occitan\n",
      "b'\\xff\\xfeO\\x00\\xbb\\x02z\\x00b\\x00e\\x00k\\x00c\\x00h\\x00a\\x00/\\x00^\\x047\\x041\\x045\\x04:\\x04G\\x040\\x04' <====> Oʻzbekcha/ўзбекча\n",
      "b'\\xff\\xfe*\\np\\n\\x1c\\n>\\n,\\n@\\n' <====> ਪੰਜਾਬੀ\n",
      "b\"\\xff\\xfe~\\x06F\\x06,\\x06'\\x06(\\x06\\xcc\\x06\" <====> پنجابی\n",
      "b'\\xff\\xfe~\\x06\\x9a\\x06*\\x06H\\x06' <====> پښتو\n",
      "b'\\xff\\xfeP\\x00l\\x00a\\x00t\\x00t\\x00d\\x00\\xfc\\x00\\xfc\\x00t\\x00s\\x00c\\x00h\\x00' <====> Plattdüütsch\n",
      "b'\\xff\\xfeP\\x00o\\x00l\\x00s\\x00k\\x00i\\x00' <====> Polski\n",
      "b'\\xff\\xfeP\\x00o\\x00r\\x00t\\x00u\\x00g\\x00u\\x00\\xea\\x00s\\x00' <====> Português\n",
      "b'\\xff\\xfeR\\x00o\\x00m\\x00\\xe2\\x00n\\x00\\x03\\x01' <====> Română\n",
      "b'\\xff\\xfeR\\x00o\\x00m\\x00a\\x00n\\x00i\\x00' <====> Romani\n",
      "b'\\xff\\xfe \\x04C\\x04A\\x04A\\x04:\\x048\\x049\\x04' <====> Русский\n",
      "b'\\xff\\xfeS\\x00e\\x00e\\x00l\\x00t\\x00e\\x00r\\x00s\\x00k\\x00' <====> Seeltersk\n",
      "b'\\xff\\xfeS\\x00h\\x00q\\x00i\\x00p\\x00' <====> Shqip\n",
      "b'\\xff\\xfeS\\x00i\\x00m\\x00p\\x00l\\x00e\\x00 \\x00E\\x00n\\x00g\\x00l\\x00i\\x00s\\x00h\\x00' <====> Simple English\n",
      "b'\\xff\\xfeS\\x00l\\x00o\\x00v\\x00e\\x00n\\x00\\r\\x01i\\x00n\\x00a\\x00' <====> Slovenčina\n",
      "b\"\\xff\\xfe\\xa9\\x06H\\x061\\x06/\\x06\\xcc\\x06\\xcc\\x06 \\x00F\\x06'\\x06H\\x06\\xd5\\x06F\\x06/\\x06\\xcc\\x06\" <====> کوردیی ناوەندی\n",
      "b'\\xff\\xfe!\\x04@\\x04?\\x04A\\x04:\\x048\\x04 \\x00/\\x00 \\x00s\\x00r\\x00p\\x00s\\x00k\\x00i\\x00' <====> Српски / srpski\n",
      "b'\\xff\\xfeS\\x00u\\x00o\\x00m\\x00i\\x00' <====> Suomi\n",
      "b'\\xff\\xfeS\\x00v\\x00e\\x00n\\x00s\\x00k\\x00a\\x00' <====> Svenska\n",
      "b'\\xff\\xfeT\\x00a\\x00g\\x00a\\x00l\\x00o\\x00g\\x00' <====> Tagalog\n",
      "b'\\xff\\xfe\\xa4\\x0b\\xae\\x0b\\xbf\\x0b\\xb4\\x0b\\xcd\\x0b' <====> தமிழ்\n",
      "b'\\xff\\xfe \\x0e2\\x0e)\\x0e2\\x0eD\\x0e\\x17\\x0e\"\\x0e' <====> ภาษาไทย\n",
      "b'\\xff\\xfeT\\x00a\\x00q\\x00b\\x00a\\x00y\\x00l\\x00i\\x00t\\x00' <====> Taqbaylit\n",
      "b'\\xff\\xfe\"\\x040\\x04B\\x040\\x04@\\x04G\\x040\\x04/\\x00t\\x00a\\x00t\\x00a\\x00r\\x00\\xe7\\x00a\\x00' <====> Татарча/tatarça\n",
      "b'\\xff\\xfe$\\x0cF\\x0c2\\x0cA\\x0c\\x17\\x0cA\\x0c' <====> తెలుగు\n",
      "b'\\xff\\xfe\"\\x04>\\x04\\xb7\\x048\\x04:\\x04\\xe3\\x04' <====> Тоҷикӣ\n",
      "b'\\xff\\xfeT\\x00\\xfc\\x00r\\x00k\\x00\\xe7\\x00e\\x00' <====> Türkçe\n",
      "b'\\xff\\xfe#\\x04:\\x04@\\x040\\x04W\\x04=\\x04A\\x04L\\x04:\\x040\\x04' <====> Українська\n",
      "b\"\\xff\\xfe'\\x061\\x06/\\x06H\\x06\" <====> اردو\n",
      "b'\\xff\\xfeT\\x00i\\x00\\xbf\\x1en\\x00g\\x00 \\x00V\\x00i\\x00\\xc7\\x1et\\x00' <====> Tiếng Việt\n",
      "b'\\xff\\xfeV\\x00\\xf5\\x00r\\x00o\\x00' <====> Võro\n",
      "b'\\xff\\xfe\\x87e\\x00\\x8a' <====> 文言\n",
      "b'\\xff\\xfe4T\\xed\\x8b' <====> 吴语\n",
      "b'\\xff\\xfe\\xd9\\x05\\xd9\\x05\\xb4\\x05\\xd3\\x05\\xd9\\x05\\xe9\\x05' <====> ייִדיש\n",
      "b'\\xff\\xfe-N\\x87e' <====> 中文\n"
     ]
    }
   ],
   "source": [
    "#import sys\n",
    "#script, encoding, error = sys.argv\n",
    "\n",
    "#encoding = 'utf-8'\n",
    "encoding = 'utf-16'\n",
    "#encoding = 'big5'\n",
    "error = \"strict\"\n",
    "\n",
    "def main(language_file, encoding, errors):\n",
    "    line = language_file.readline()\n",
    "    \n",
    "    if line:\n",
    "        print_line(line, encoding, errors)\n",
    "        return main(language_file, encoding, errors) # odwolanie rekurencyjne funkcji main w main\n",
    "\n",
    "def print_line(line, encoding, errors):\n",
    "    next_lang = line.strip() # strip???\n",
    "    raw_bytes = next_lang.encode(encoding, errors=errors) # encode???\n",
    "    cooked_string = raw_bytes.decode(encoding, errors=errors) # decode???\n",
    "    \n",
    "    print(raw_bytes, \"<====>\", cooked_string)\n",
    "    \n",
    "languages = open(\"ex23_languages.txt\", encoding=\"utf-8\")\n",
    "\n",
    "main(languages, encoding, error)"
   ]
  },
  {
   "cell_type": "markdown",
   "metadata": {},
   "source": [
    "# Exercise 22\n",
    "\n",
    "it's empty"
   ]
  },
  {
   "cell_type": "markdown",
   "metadata": {},
   "source": [
    "# Exercise 21"
   ]
  },
  {
   "cell_type": "code",
   "execution_count": 17,
   "metadata": {},
   "outputs": [
    {
     "name": "stdout",
     "output_type": "stream",
     "text": [
      "Let's do some math with just functions!\n",
      "Adding 30 + 5\n",
      "Subtracting 78 - 4\n",
      "Multiplying 90 * 2\n",
      "Dividing 200 / 2\n",
      "Age: 35, Height: 74, Weight: 180, IQ: 100.0\n",
      "Here is a puzzle.\n",
      "Dividing 100.0 / 2\n",
      "Multiplying 180 * 50.0\n",
      "Subtracting 74 - 9000.0\n",
      "Adding 35 + -8926.0\n",
      "That becomes:  -8891.0 Can you do it by hand?\n"
     ]
    }
   ],
   "source": [
    "def add(a, b):\n",
    "    print(\"Adding {} + {}\".format(a, b))\n",
    "    return a + b\n",
    "\n",
    "def subtract(a, b):\n",
    "    print(\"Subtracting {} - {}\".format(a, b))\n",
    "    return a - b\n",
    "\n",
    "def multiply(a, b):\n",
    "    print(\"Multiplying {} * {}\".format(a, b))\n",
    "    return a * b\n",
    "\n",
    "def divide(a, b):\n",
    "    print(\"Dividing {} / {}\".format(a, b))\n",
    "    return a / b\n",
    "\n",
    "print(\"Let's do some math with just functions!\")\n",
    "\n",
    "age = add(30, 5)\n",
    "height = subtract(78, 4)\n",
    "weight = multiply(90, 2)\n",
    "iq = divide(200, 2)\n",
    "\n",
    "print(\"Age: {}, Height: {}, Weight: {}, IQ: {}\".format(age, height, weight, iq))\n",
    "\n",
    "# A puzzle for the extra credit, type it in anyway.\n",
    "print(\"Here is a puzzle.\")\n",
    "\n",
    "what = add(age, subtract(height, multiply(weight, divide(iq, 2))))\n",
    "\n",
    "print(\"That becomes: \", what, \"Can you do it by hand?\")"
   ]
  },
  {
   "cell_type": "markdown",
   "metadata": {},
   "source": [
    "# Exercise 20"
   ]
  },
  {
   "cell_type": "code",
   "execution_count": 14,
   "metadata": {},
   "outputs": [
    {
     "name": "stdout",
     "output_type": "stream",
     "text": [
      "First let's print the whole file:\n",
      "\n",
      "to jest text \n",
      "do zadania 15\n",
      "\n",
      "i jeszcze troche tekstu\n",
      "Now let's rewind, kind of like a tape.\n",
      "Let's print three lines:\n",
      "1 to jest text \n",
      "\n",
      "2 do zadania 15\n",
      "\n",
      "3 \n",
      "\n"
     ]
    }
   ],
   "source": [
    "#from sys import argv\n",
    "\n",
    "#script, input_file = argv\n",
    "\n",
    "input_file = 'ex20_sample.txt'\n",
    "\n",
    "def print_all(f):\n",
    "    print(f.read())\n",
    "    \n",
    "def rewind(f):\n",
    "    f.seek(0)\n",
    "\n",
    "def print_a_line(line_count, f):\n",
    "    print(line_count, f.readline())\n",
    "\n",
    "current_file = open(input_file)\n",
    "\n",
    "print(\"First let's print the whole file:\\n\")\n",
    "print_all(current_file)\n",
    "\n",
    "print(\"Now let's rewind, kind of like a tape.\")\n",
    "rewind(current_file)\n",
    "\n",
    "print(\"Let's print three lines:\")\n",
    "\n",
    "current_line = 1\n",
    "print_a_line(current_line, current_file)\n",
    "\n",
    "current_line = current_line + 1\n",
    "print_a_line(current_line, current_file)\n",
    "\n",
    "current_line += 1\n",
    "print_a_line(current_line, current_file)\n"
   ]
  },
  {
   "cell_type": "markdown",
   "metadata": {},
   "source": [
    "# Exercise 19"
   ]
  },
  {
   "cell_type": "code",
   "execution_count": 11,
   "metadata": {},
   "outputs": [
    {
     "name": "stdout",
     "output_type": "stream",
     "text": [
      "We can just give the function numbers directly:\n",
      "You have 20 cheeses!\n",
      "You have 30 boxes of crackers!\n",
      "Man that's enough for a party!\n",
      "Get a blanket.\n",
      "\n",
      "Or, we can use variables form our script:\n",
      "You have 10 cheeses!\n",
      "You have 50 boxes of crackers!\n",
      "Man that's enough for a party!\n",
      "Get a blanket.\n",
      "\n",
      "We can even do math inside too:\n",
      "You have 30 cheeses!\n",
      "You have 11 boxes of crackers!\n",
      "Man that's enough for a party!\n",
      "Get a blanket.\n",
      "\n",
      "And we can combine the two variables and math:\n",
      "You have 110 cheeses!\n",
      "You have 52 boxes of crackers!\n",
      "Man that's enough for a party!\n",
      "Get a blanket.\n",
      "\n",
      "Amount of cheese: 3\n",
      "Amount of crackers: 4\n",
      "You have 3 cheeses!\n",
      "You have 4 boxes of crackers!\n",
      "Man that's enough for a party!\n",
      "Get a blanket.\n",
      "\n"
     ]
    }
   ],
   "source": [
    "def cheese_and_crackers(cheese_count, boxes_of_crackers):\n",
    "    print(\"You have {} cheeses!\".format(cheese_count))\n",
    "    print(\"You have {} boxes of crackers!\".format(boxes_of_crackers))\n",
    "    print(\"Man that's enough for a party!\")\n",
    "    print(\"Get a blanket.\\n\")\n",
    "    \n",
    "print(\"We can just give the function numbers directly:\")\n",
    "cheese_and_crackers(20, 30)\n",
    "\n",
    "print(\"Or, we can use variables form our script:\")\n",
    "amount_of_cheese = 10\n",
    "amount_of_crackers = 50\n",
    "\n",
    "cheese_and_crackers(amount_of_cheese, amount_of_crackers)\n",
    "\n",
    "print(\"We can even do math inside too:\")\n",
    "cheese_and_crackers(10+20, 5+6)\n",
    "\n",
    "print(\"And we can combine the two variables and math:\")\n",
    "cheese_and_crackers(amount_of_cheese + 100, amount_of_crackers + 2)\n",
    "\n",
    "cheese_and_crackers(input('Amount of cheese: '), input('Amount of crackers: '))"
   ]
  },
  {
   "cell_type": "markdown",
   "metadata": {},
   "source": [
    "# Exercise 18"
   ]
  },
  {
   "cell_type": "code",
   "execution_count": 5,
   "metadata": {},
   "outputs": [
    {
     "name": "stdout",
     "output_type": "stream",
     "text": [
      "arg1: d, arg2: b\n",
      "arg1: da, arg2: ad\n",
      "arg1: adsf\n",
      "I got nothin.\n"
     ]
    }
   ],
   "source": [
    "# this one is like your scripts with argv\n",
    "def print_two(*args):\n",
    "    arg1, arg2 = args\n",
    "    print(\"arg1: {}, arg2: {}\".format(arg1, arg2))\n",
    "    \n",
    "print_two('d','b')\n",
    "\n",
    "# ok, that *args is actually pointless, we can just do this\n",
    "def print_two_again(arg1, arg2):\n",
    "    print(\"arg1: {}, arg2: {}\".format(arg1,arg2))\n",
    "    \n",
    "print_two_again('da','ad')\n",
    "\n",
    "# this just takes one argument\n",
    "def print_one(arg1):\n",
    "    print(\"arg1: {}\".format(arg1))\n",
    "    \n",
    "print_one('adsf')\n",
    "\n",
    "# this one takes no arguments\n",
    "def print_none():\n",
    "    print(\"I got nothin.\")\n",
    "\n",
    "print_none()"
   ]
  },
  {
   "cell_type": "markdown",
   "metadata": {},
   "source": [
    "# ============================================================="
   ]
  },
  {
   "cell_type": "markdown",
   "metadata": {},
   "source": [
    "# Exercise 17"
   ]
  },
  {
   "cell_type": "code",
   "execution_count": 97,
   "metadata": {},
   "outputs": [
    {
     "name": "stdout",
     "output_type": "stream",
     "text": [
      "Copying from ex17_from.txt to ex17_to.txt\n",
      "The input file is 13 bytes long\n",
      "Alright, all done.\n"
     ]
    }
   ],
   "source": [
    "#from sys import argv\n",
    "#from os.path import exists\n",
    "\n",
    "#script, from_file, to_file = argv\n",
    "\n",
    "from_file = \"ex17_from.txt\"\n",
    "to_file = \"ex17_to.txt\"\n",
    "\n",
    "print('Copying from {} to {}'.format(from_file, to_file))\n",
    "\n",
    "indata = open(from_file).read()\n",
    "\n",
    "print(\"The input file is {} bytes long\".format(len(indata)))\n",
    "\n",
    "#print(\"Does the output file exist? {}\".format(to_file))\n",
    "#print(\"Ready, hit RETURN to continue, CTRL-C to abort.\")\n",
    "#input()\n",
    "\n",
    "out_file = open(to_file, 'w').write(indata)\n",
    "\n",
    "print(\"Alright, all done.\")\n",
    "\n",
    "#out_file.close() # not needed because line like indata = open(from_file).read() already closed the file\n",
    "#in_file.close() "
   ]
  },
  {
   "cell_type": "markdown",
   "metadata": {},
   "source": [
    "# Exercise 16\n",
    "\n",
    "!nie dziala odczytywanie - nie wiem dlaczego"
   ]
  },
  {
   "cell_type": "code",
   "execution_count": 92,
   "metadata": {},
   "outputs": [
    {
     "name": "stdout",
     "output_type": "stream",
     "text": [
      "Opening the file...\n",
      "Truncating the file. Goodbye!\n",
      "Now I'm going to ask you for three lines.\n",
      "line 1: sadf\n",
      "line 2: asdf\n",
      "line 3: ga\n",
      "I'm going to write these to the file.\n",
      "I'm going to read it:\n",
      "\n",
      "And finally, we close it.\n"
     ]
    }
   ],
   "source": [
    "#from sys import argv\n",
    "#script, filename = argv\n",
    "\n",
    "filename = 'ex16_sample.txt'\n",
    "#print(\"We're going to erase {}\".format(filename))\n",
    "#print(\"If you don't want that, hit CTRL-C (^C).\")\n",
    "#print(\"If you do want that, hit RETURN.\")\n",
    "\n",
    "#input(\"?\")\n",
    "\n",
    "print(\"Opening the file...\")\n",
    "target = open(filename, 'w')\n",
    "\n",
    "print(\"Truncating the file. Goodbye!\")\n",
    "target.truncate()\n",
    "\n",
    "print(\"Now I'm going to ask you for three lines.\")\n",
    "\n",
    "line1 = input(\"line 1: \")\n",
    "line2 = input(\"line 2: \")\n",
    "line3 = input(\"line 3: \")\n",
    "\n",
    "print(\"I'm going to write these to the file.\")\n",
    "\n",
    "target.write(line1)\n",
    "target.write(\"\\n\")\n",
    "target.write(line2)\n",
    "target.write(\"\\n\")\n",
    "target.write(line3)\n",
    "target.write(\"\\n\")\n",
    "\n",
    "print(\"I'm going to read it:\")\n",
    "txt = open(filename,'r')\n",
    "print(txt.read())\n",
    "print(\"And finally, we close it.\")\n",
    "target.close()\n",
    "txt.close()"
   ]
  },
  {
   "cell_type": "code",
   "execution_count": 93,
   "metadata": {
    "scrolled": true
   },
   "outputs": [
    {
     "name": "stdout",
     "output_type": "stream",
     "text": [
      "sadf\n",
      "asdf\n",
      "ga\n",
      "\n"
     ]
    }
   ],
   "source": [
    "txt = open(filename,'r')\n",
    "print(txt.read())"
   ]
  },
  {
   "cell_type": "markdown",
   "metadata": {},
   "source": [
    "# Exercise 15"
   ]
  },
  {
   "cell_type": "code",
   "execution_count": 68,
   "metadata": {},
   "outputs": [
    {
     "name": "stdout",
     "output_type": "stream",
     "text": [
      "Here's your file ex15_sample.txt:\n",
      "to jest text \n",
      "do zadania 15\n",
      "\n",
      "i jeszcze troche tekstu\n",
      "Type the filename again:\n",
      "> ex15_sample.txt\n",
      "to jest text \n",
      "do zadania 15\n",
      "\n",
      "i jeszcze troche tekstu\n"
     ]
    }
   ],
   "source": [
    "#from sys import argv\n",
    "#script, filename = argv\n",
    "\n",
    "filename = 'ex15_sample.txt'\n",
    "\n",
    "txt = open(filename)\n",
    "\n",
    "print(\"Here's your file {}:\".format(filename))\n",
    "print(txt.read())\n",
    "\n",
    "print('Type the filename again:')\n",
    "file_again = input(\"> \")\n",
    "txt_again = open(file_again)\n",
    "\n",
    "print(txt_again.read())"
   ]
  },
  {
   "cell_type": "code",
   "execution_count": 69,
   "metadata": {
    "collapsed": true
   },
   "outputs": [],
   "source": [
    "txt.close()\n",
    "txt_again.close()"
   ]
  },
  {
   "cell_type": "markdown",
   "metadata": {},
   "source": [
    "# Exercise 14"
   ]
  },
  {
   "cell_type": "code",
   "execution_count": 65,
   "metadata": {
    "scrolled": true
   },
   "outputs": [
    {
     "name": "stdout",
     "output_type": "stream",
     "text": [
      "Hi -f, I'm the C:\\Users\\PNaF\\Anaconda3\\lib\\site-packages\\ipykernel_launcher.py script.\n",
      "I'd like to ask you a few questions.\n",
      "Do you like me -f\n",
      "> yes\n",
      "Where do you live -f\n",
      "> here\n",
      "What kind of computer do you have?\n",
      "> black\n",
      "\n",
      "Alright, so you said yes about liking me.\n",
      "You live in here. Not sure where that is.\n",
      "And you have a black computer. Nice.\n",
      "\n"
     ]
    }
   ],
   "source": [
    "from sys import argv\n",
    "\n",
    "script, user_name, not_important = argv\n",
    "prompt = '> '\n",
    "\n",
    "print(\"Hi {}, I'm the {} script.\".format(user_name, script))\n",
    "print(\"I'd like to ask you a few questions.\")\n",
    "print(\"Do you like me {}\".format(user_name))\n",
    "likes = input(prompt)\n",
    "\n",
    "print('Where do you live {}'.format(user_name))\n",
    "lives = input(prompt)\n",
    "\n",
    "print('What kind of computer do you have?')\n",
    "computer = input(prompt)\n",
    "\n",
    "print(\"\"\"\n",
    "Alright, so you said {} about liking me.\n",
    "You live in {}. Not sure where that is.\n",
    "And you have a {} computer. Nice.\n",
    "\"\"\".format(likes, lives, computer))"
   ]
  },
  {
   "cell_type": "markdown",
   "metadata": {},
   "source": [
    "# Exercise 13\n",
    "\n",
    "argv zwraca wartosci z jakimi zostal wykonany skrypt w przykladzie z ksiazki w cmd line: python ex13.py 1st 2nd 3rd \n",
    "\n",
    "ale w jupyterze to dziala troche inaczej"
   ]
  },
  {
   "cell_type": "code",
   "execution_count": 58,
   "metadata": {
    "scrolled": true
   },
   "outputs": [
    {
     "name": "stdout",
     "output_type": "stream",
     "text": [
      "The script is called:  C:\\Users\\PNaF\\Anaconda3\\lib\\site-packages\\ipykernel_launcher.py\n",
      "Your first variable is:  -f\n",
      "Your second variable is:  C:\\Users\\PNaF\\AppData\\Roaming\\jupyter\\runtime\\kernel-df2d4c3d-5e2e-44b4-a8d3-ba72d2d87ea0.json\n"
     ]
    }
   ],
   "source": [
    "from sys import argv\n",
    "script, first, second = argv\n",
    "\n",
    "print('The script is called: ', script)\n",
    "print('Your first variable is: ', first)\n",
    "print('Your second variable is: ', second)"
   ]
  },
  {
   "cell_type": "markdown",
   "metadata": {},
   "source": [
    "# Exercise 12"
   ]
  },
  {
   "cell_type": "code",
   "execution_count": 52,
   "metadata": {},
   "outputs": [
    {
     "name": "stdout",
     "output_type": "stream",
     "text": [
      "Name?a\n"
     ]
    }
   ],
   "source": [
    "y = input('Name?')"
   ]
  },
  {
   "cell_type": "code",
   "execution_count": 54,
   "metadata": {
    "scrolled": true
   },
   "outputs": [
    {
     "name": "stdout",
     "output_type": "stream",
     "text": [
      "How old are you? 4\n",
      "How tall are you? 56\n",
      "How much do you weight? 7\n",
      "So, you're 4 old, 56 tall and 7 heavy.\n"
     ]
    }
   ],
   "source": [
    "age = input('How old are you? ')\n",
    "height = input('How tall are you? ')\n",
    "weight = input('How much do you weight? ')\n",
    "\n",
    "print(\"So, you're {} old, {} tall and {} heavy.\".format(age, height, weight))"
   ]
  },
  {
   "cell_type": "markdown",
   "metadata": {},
   "source": [
    "# Exercise 11"
   ]
  },
  {
   "cell_type": "code",
   "execution_count": 51,
   "metadata": {
    "scrolled": true
   },
   "outputs": [
    {
     "name": "stdout",
     "output_type": "stream",
     "text": [
      "How old are you? 5\n",
      "How tall are you? 12\n",
      "How much do you weigh? 51\n",
      "So, you're 5 old, 12 tall and 51 heavy.\n"
     ]
    }
   ],
   "source": [
    "print('How old are you?', end=' ')\n",
    "age = input()\n",
    "print('How tall are you?', end=' ')\n",
    "height = input()\n",
    "print('How much do you weigh?', end=' ')\n",
    "weight = input()\n",
    "\n",
    "print(\"So, you're {} old, {} tall and {} heavy.\".format(age, height, weight))"
   ]
  },
  {
   "cell_type": "markdown",
   "metadata": {},
   "source": [
    "# Exercise 10"
   ]
  },
  {
   "cell_type": "code",
   "execution_count": 32,
   "metadata": {},
   "outputs": [
    {
     "name": "stdout",
     "output_type": "stream",
     "text": [
      "\tI'm tabbed in.\n",
      "I'm split\n",
      "on a line.\n",
      "I'm \\ a \\ cat.\n",
      "\n",
      "I'll do a list:\n",
      "\t* Cat food\n",
      "\t* Fishies\n",
      "\t* Catnip\n",
      "\t* Grass\n",
      "\n"
     ]
    }
   ],
   "source": [
    "tabby_cat = \"\\tI'm tabbed in.\"\n",
    "persian_cat = \"I'm split\\non a line.\"\n",
    "backslash_cat = \"I'm \\\\ a \\\\ cat.\"\n",
    "\n",
    "fat_cat = \"\"\"\n",
    "I'll do a list:\n",
    "\\t* Cat food\n",
    "\\t* Fishies\n",
    "\\t* Catnip\\n\\t* Grass\n",
    "\"\"\"\n",
    "\n",
    "print(tabby_cat)\n",
    "print(persian_cat)\n",
    "print(backslash_cat)\n",
    "print(fat_cat)"
   ]
  },
  {
   "cell_type": "markdown",
   "metadata": {},
   "source": [
    "Different escape characters"
   ]
  },
  {
   "cell_type": "code",
   "execution_count": 49,
   "metadata": {
    "scrolled": false
   },
   "outputs": [
    {
     "name": "stdout",
     "output_type": "stream",
     "text": [
      "1.\\\n",
      "2.'\n",
      "3.\"\n",
      "4.\u0007\n",
      "5.\b\n",
      "6.\f",
      "\n",
      "7.\n",
      "\n",
      "8.;\n",
      "9.\r\n",
      "10.\t\n",
      "11.￿\n",
      "12.ÿ\n",
      "13.\u000b",
      "\n",
      "14.?\n",
      "15.ò\n"
     ]
    }
   ],
   "source": [
    "print('1.\\\\\\n2.\\'\\n3.\\\"\\n4.\\a\\n5.\\b\\n6.\\f\\n7.\\n\\n8.\\N{semicolon}\\n9.\\r\\n10.\\t\\n11.\\uFFFF\\n12.\\U000000FF\\n13.\\v\\n14.\\077\\n15.\\xF2')"
   ]
  },
  {
   "cell_type": "markdown",
   "metadata": {},
   "source": [
    "# Exercise 9"
   ]
  },
  {
   "cell_type": "code",
   "execution_count": 31,
   "metadata": {
    "scrolled": true
   },
   "outputs": [
    {
     "name": "stdout",
     "output_type": "stream",
     "text": [
      "Here are the days:  Mon Tue Wed Thu Fri Sat Sun\n",
      "Here are the months:  \n",
      "Jan\n",
      "\tFeb\n",
      "Mar\n",
      "\tApr\n",
      "May\n",
      "\tJun\n",
      "Jul\n",
      "\tAug\n",
      "\n",
      "There's something going on here.\n",
      "With the three double-quotes.\n",
      "We'll be able to type as much as we like.\n",
      "Even 4 lines if we want, or 5, or 6.\n",
      "\n"
     ]
    }
   ],
   "source": [
    "days = 'Mon Tue Wed Thu Fri Sat Sun'\n",
    "months = '\\nJan\\n\\tFeb\\nMar\\n\\tApr\\nMay\\n\\tJun\\nJul\\n\\tAug'\n",
    "\n",
    "print('Here are the days: ', days)\n",
    "print('Here are the months: ', months)\n",
    "\n",
    "print(\"\"\"\n",
    "There's something going on here.\n",
    "With the three double-quotes.\n",
    "We'll be able to type as much as we like.\n",
    "Even 4 lines if we want, or 5, or 6.\n",
    "\"\"\")"
   ]
  },
  {
   "cell_type": "markdown",
   "metadata": {},
   "source": [
    "# Exercise 8"
   ]
  },
  {
   "cell_type": "code",
   "execution_count": 27,
   "metadata": {
    "scrolled": true
   },
   "outputs": [
    {
     "name": "stdout",
     "output_type": "stream",
     "text": [
      "1 2 3 4\n",
      "one two three four\n",
      "True False False True\n",
      "{} {} {} {} {} {} {} {} {} {} {} {} {} {} {} {}\n",
      "Try your Own text here Maybe a poem Or a song about fear\n"
     ]
    }
   ],
   "source": [
    "formatter = '{} {} {} {}'\n",
    "\n",
    "print(formatter.format(1,2,3,4))\n",
    "print(formatter.format('one', 'two', 'three', 'four'))\n",
    "print(formatter.format(True, False, False, True))\n",
    "print(formatter.format(formatter, formatter, formatter, formatter))\n",
    "print(formatter.format('Try your', 'Own text here', 'Maybe a poem', 'Or a song about fear'))"
   ]
  },
  {
   "cell_type": "markdown",
   "metadata": {},
   "source": [
    "# Exercise 7\n",
    "\n",
    "w print() warunek end='' mowi jak zakonczyc linie zamiast Entera \\n"
   ]
  },
  {
   "cell_type": "code",
   "execution_count": 24,
   "metadata": {
    "scrolled": true
   },
   "outputs": [
    {
     "name": "stdout",
     "output_type": "stream",
     "text": [
      "Mary had a little lamb.\n",
      "Its fleece was white as snow\n",
      "And everywhere that Mary went.\n",
      "..........\n",
      "Cheese\tBurger\n"
     ]
    }
   ],
   "source": [
    "print('Mary had a little lamb.')\n",
    "print('Its fleece was white as {}'.format('snow'))\n",
    "print('And everywhere that Mary went.')\n",
    "print('.'*10)\n",
    "\n",
    "end1 = 'C'\n",
    "end2 = 'h'\n",
    "end3 = 'e'\n",
    "end4 = 'e'\n",
    "end5 = 's'\n",
    "end6 = 'e'\n",
    "end7 = 'B'\n",
    "end8 = 'u'\n",
    "end9 = 'r'\n",
    "end10 = 'g'\n",
    "end11 = 'e'\n",
    "end12 = 'r'\n",
    "\n",
    "print(end1 + end2 + end3 + end4 + end5 + end6, end='\\t')\n",
    "print(end7 + end8 + end9 + end10 + end11 + end12)"
   ]
  },
  {
   "cell_type": "markdown",
   "metadata": {},
   "source": [
    "# Exercise 6"
   ]
  },
  {
   "cell_type": "code",
   "execution_count": 18,
   "metadata": {
    "scrolled": true
   },
   "outputs": [
    {
     "name": "stdout",
     "output_type": "stream",
     "text": [
      "There are 10 types of people\n",
      "Those who know binary and those who don't\n",
      "I said: There are 10 types of people\n",
      "I also said: Those who know binary and those who don't\n",
      "Isn't that joke so funny?! False\n",
      "This is the left side of...a string with a right side\n"
     ]
    }
   ],
   "source": [
    "types_of_people = 10\n",
    "x = 'There are {} types of people'.format(types_of_people)\n",
    "\n",
    "binary = 'binary'\n",
    "do_not = 'don\\'t'\n",
    "y = 'Those who know {} and those who {}'.format(binary, do_not)\n",
    "\n",
    "print(x)\n",
    "print(y)\n",
    "\n",
    "print('I said: {}'.format(x))\n",
    "print('I also said: {}'.format(y))\n",
    "\n",
    "hilarious = False\n",
    "joke_evaluation = 'Isn\\'t that joke so funny?! {}'\n",
    "\n",
    "print(joke_evaluation.format(hilarious))\n",
    "\n",
    "w = 'This is the left side of...'\n",
    "e = 'a string with a right side'\n",
    "\n",
    "print(w+e)"
   ]
  },
  {
   "cell_type": "markdown",
   "metadata": {},
   "source": [
    "# Exercise 5\n",
    "\n",
    "f-strings format from Python 3.6 - I have 3.5.4"
   ]
  },
  {
   "cell_type": "code",
   "execution_count": 16,
   "metadata": {
    "scrolled": true
   },
   "outputs": [
    {
     "name": "stdout",
     "output_type": "stream",
     "text": [
      "Let's talk about Zed A. Shaw.\n",
      "He's 74 inches tall.\n",
      "He's 180 pounds heavy.\n",
      "Actually tat's not too heavy.\n",
      "He's got Blue eyes and Brown hair.\n",
      "If I add 35, 74, and 180 I get 289\n"
     ]
    }
   ],
   "source": [
    "my_name = 'Zed A. Shaw'\n",
    "my_age = 35 # not a lie\n",
    "my_height = 74 # inches\n",
    "my_weight = 180 # lbs\n",
    "my_eyes = 'Blue'\n",
    "my_teeth = 'White'\n",
    "my_hair = 'Brown'\n",
    "\n",
    "print('Let\\'s talk about {}.'.format(my_name))\n",
    "print('He\\'s {} inches tall.'.format(my_height))\n",
    "print('He\\'s {} pounds heavy.'.format(my_weight))\n",
    "print('Actually tat\\'s not too heavy.')\n",
    "print('He\\'s got {} eyes and {} hair.'.format(my_eyes, my_hair))\n",
    "\n",
    "total = my_age + my_height + my_weight\n",
    "print('If I add {0}, {1}, and {2} I get {3}'.format(my_age, my_height, my_weight, total))"
   ]
  },
  {
   "cell_type": "markdown",
   "metadata": {},
   "source": [
    "# Exercise 4"
   ]
  },
  {
   "cell_type": "code",
   "execution_count": 1,
   "metadata": {},
   "outputs": [
    {
     "name": "stdout",
     "output_type": "stream",
     "text": [
      "There are 100 cars available.\n",
      "There are only 30 drivers available.\n",
      "There will be 70 empty cars today.\n",
      "We can transport 120.0 people today.\n",
      "We have 90 to carpool today.\n",
      "We need to put about 3.0 in each car.\n"
     ]
    }
   ],
   "source": [
    "cars = 100\n",
    "space_in_a_car = 4.0\n",
    "drivers = 30\n",
    "passengers = 90\n",
    "cars_not_driven = cars - drivers\n",
    "cars_driven = drivers\n",
    "carpool_capacity = cars_driven * space_in_a_car\n",
    "average_passengers_per_car = passengers / cars_driven\n",
    "\n",
    "print('There are', cars, 'cars available.')\n",
    "print('There are only', drivers, 'drivers available.')\n",
    "print('There will be', cars_not_driven, 'empty cars today.')\n",
    "print('We can transport', carpool_capacity, 'people today.')\n",
    "print('We have', passengers, 'to carpool today.')\n",
    "print('We need to put about', average_passengers_per_car, 'in each car.')"
   ]
  },
  {
   "cell_type": "code",
   "execution_count": null,
   "metadata": {
    "collapsed": true
   },
   "outputs": [],
   "source": []
  }
 ],
 "metadata": {
  "kernelspec": {
   "display_name": "Python 3",
   "language": "python",
   "name": "python3"
  },
  "language_info": {
   "codemirror_mode": {
    "name": "ipython",
    "version": 3
   },
   "file_extension": ".py",
   "mimetype": "text/x-python",
   "name": "python",
   "nbconvert_exporter": "python",
   "pygments_lexer": "ipython3",
   "version": "3.5.4"
  }
 },
 "nbformat": 4,
 "nbformat_minor": 2
}
